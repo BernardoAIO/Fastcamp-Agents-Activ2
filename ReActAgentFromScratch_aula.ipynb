{
  "cells": [
    {
      "cell_type": "markdown",
      "metadata": {
        "id": "view-in-github",
        "colab_type": "text"
      },
      "source": [
        "<a href=\"https://colab.research.google.com/github/BernardoAIO/Fastcamp-Agents-Activ2/blob/main/ReActAgentFromScratch_aula.ipynb\" target=\"_parent\"><img src=\"https://colab.research.google.com/assets/colab-badge.svg\" alt=\"Open In Colab\"/></a>"
      ]
    },
    {
      "cell_type": "markdown",
      "source": [
        "# Installs e imports"
      ],
      "metadata": {
        "id": "rtXipUucxrgl"
      }
    },
    {
      "cell_type": "code",
      "source": [
        "!pip install groq"
      ],
      "metadata": {
        "colab": {
          "base_uri": "https://localhost:8080/"
        },
        "id": "UcRXLTv_vhFb",
        "outputId": "368f9232-d8a1-455d-f1d7-bd56e9396121"
      },
      "execution_count": null,
      "outputs": [
        {
          "output_type": "stream",
          "name": "stdout",
          "text": [
            "Requirement already satisfied: groq in /usr/local/lib/python3.11/dist-packages (0.18.0)\n",
            "Requirement already satisfied: anyio<5,>=3.5.0 in /usr/local/lib/python3.11/dist-packages (from groq) (3.7.1)\n",
            "Requirement already satisfied: distro<2,>=1.7.0 in /usr/local/lib/python3.11/dist-packages (from groq) (1.9.0)\n",
            "Requirement already satisfied: httpx<1,>=0.23.0 in /usr/local/lib/python3.11/dist-packages (from groq) (0.28.1)\n",
            "Requirement already satisfied: pydantic<3,>=1.9.0 in /usr/local/lib/python3.11/dist-packages (from groq) (2.10.6)\n",
            "Requirement already satisfied: sniffio in /usr/local/lib/python3.11/dist-packages (from groq) (1.3.1)\n",
            "Requirement already satisfied: typing-extensions<5,>=4.10 in /usr/local/lib/python3.11/dist-packages (from groq) (4.12.2)\n",
            "Requirement already satisfied: idna>=2.8 in /usr/local/lib/python3.11/dist-packages (from anyio<5,>=3.5.0->groq) (3.10)\n",
            "Requirement already satisfied: certifi in /usr/local/lib/python3.11/dist-packages (from httpx<1,>=0.23.0->groq) (2025.1.31)\n",
            "Requirement already satisfied: httpcore==1.* in /usr/local/lib/python3.11/dist-packages (from httpx<1,>=0.23.0->groq) (1.0.7)\n",
            "Requirement already satisfied: h11<0.15,>=0.13 in /usr/local/lib/python3.11/dist-packages (from httpcore==1.*->httpx<1,>=0.23.0->groq) (0.14.0)\n",
            "Requirement already satisfied: annotated-types>=0.6.0 in /usr/local/lib/python3.11/dist-packages (from pydantic<3,>=1.9.0->groq) (0.7.0)\n",
            "Requirement already satisfied: pydantic-core==2.27.2 in /usr/local/lib/python3.11/dist-packages (from pydantic<3,>=1.9.0->groq) (2.27.2)\n"
          ]
        }
      ]
    },
    {
      "cell_type": "code",
      "execution_count": null,
      "metadata": {
        "id": "G34wSOY0t93Y"
      },
      "outputs": [],
      "source": [
        "import os\n",
        "from groq import Groq\n",
        "from google.colab import userdata"
      ]
    },
    {
      "cell_type": "markdown",
      "source": [
        "# Teste Inicial\n",
        "\n",
        "Uso de um completion básico para testar a funcionalidade da API do Groq e a key que será utilizada"
      ],
      "metadata": {
        "id": "ox8LY3cQx15v"
      }
    },
    {
      "cell_type": "code",
      "execution_count": null,
      "metadata": {
        "id": "kfNRkhABt93Z",
        "outputId": "b48f34a7-a4e1-4271-ce4c-0abcead92cc0",
        "colab": {
          "base_uri": "https://localhost:8080/"
        }
      },
      "outputs": [
        {
          "output_type": "stream",
          "name": "stdout",
          "text": [
            "Fast language models are crucial in today's natural language processing (NLP) landscape, and their importance can be seen in several aspects:\n",
            "\n",
            "1. **Real-time Applications**: Fast language models enable real-time applications such as chatbots, virtual assistants, and language translation systems to respond quickly and efficiently. This is particularly important in customer-facing applications where delayed responses can lead to frustration and a negative user experience.\n",
            "2. **Low-Latency Requirements**: Many applications, such as voice assistants, require language models to process and respond to user input within a few hundred milliseconds. Fast language models can meet these low-latency requirements, ensuring a seamless user experience.\n",
            "3. **Scalability**: Fast language models can handle large volumes of data and user requests, making them essential for large-scale NLP applications such as language translation, sentiment analysis, and text summarization.\n",
            "4. **Energy Efficiency**: Fast language models can reduce the computational resources required to process language tasks, leading to energy efficiency and cost savings. This is particularly important for edge devices, mobile devices, and data centers.\n",
            "5. **Improved Accuracy**: Faster language models can process more data and perform more iterations, leading to improved accuracy and better performance in various NLP tasks.\n",
            "6. **Enhanced User Experience**: Fast language models can enable more interactive and engaging user experiences, such as conversational interfaces, voice-controlled systems, and personalized content recommendation.\n",
            "7. **Competitive Advantage**: In today's fast-paced technology landscape, companies that can deploy fast and accurate language models can gain a competitive advantage over their rivals.\n",
            "8. **Research and Development**: Fast language models can accelerate research and development in NLP, enabling researchers to experiment with new ideas, test hypotheses, and iterate on models more quickly.\n",
            "9. **Edge AI and IoT**: Fast language models are essential for edge AI and IoT applications, where devices have limited computational resources and require efficient processing of language data.\n",
            "10. **Accessibility**: Fast language models can enable language accessibility features, such as real-time language translation, text-to-speech, and speech-to-text, which can improve the quality of life for people with disabilities.\n",
            "\n",
            "To achieve fast language models, researchers and developers employ various techniques, including:\n",
            "\n",
            "1. Model pruning and knowledge distillation\n",
            "2. Quantization and binarization\n",
            "3. Efficient neural network architectures\n",
            "4. Parallel processing and distributed computing\n",
            "5. GPU acceleration and specialized hardware\n",
            "6. Caching and memoization\n",
            "7. Approximation algorithms and sampling techniques\n",
            "\n",
            "By leveraging these techniques, fast language models can unlock new possibilities in NLP and have a significant impact on various industries, including customer service, healthcare, education, and entertainment.\n"
          ]
        }
      ],
      "source": [
        "client = Groq(api_key=userdata.get('GROQ_API_KEY'))\n",
        "\n",
        "chat_completion = client.chat.completions.create(\n",
        "    messages=[\n",
        "        {\"role\": \"user\", \"content\": \"Explain the importance of fast language models\"}\n",
        "    ],\n",
        "    model=\"llama3-70b-8192\",\n",
        "    temperature=0\n",
        ")\n",
        "\n",
        "print(chat_completion.choices[0].message.content)"
      ]
    },
    {
      "cell_type": "markdown",
      "source": [
        "# Setup da Classe do Agente\n",
        "\n",
        "* Inicialização (__init__): Configura o agente com um cliente (para acessar a\n",
        "API) e opcionalmente uma mensagem de sistema, que pode ser utilizada para fornecer contexto ou instruções iniciais ao modelo.  \n",
        "\n",
        "* Chamada do Agente (__call__): Permite usar a instância do agente como se fosse uma função. Quando chamada, adiciona uma nova mensagem do usuário ao histórico, solicita a resposta do modelo via o método execute, registra essa resposta no histórico como uma mensagem do assistente e, por fim, retorna a resposta.  \n",
        "\n",
        "* Execução da Chamada à API (execute): Envia o histórico de mensagens para o modelo de linguagem fazer um completion."
      ],
      "metadata": {
        "id": "uw8XcOnX5Ekl"
      }
    },
    {
      "cell_type": "code",
      "execution_count": null,
      "metadata": {
        "id": "XstqNVXvt93Z"
      },
      "outputs": [],
      "source": [
        "class Agent:\n",
        "    def __init__(self, client: Groq, system: str = \"\") -> None:\n",
        "        self.client = client\n",
        "        self.system = system\n",
        "        self.messages: list = []\n",
        "        if self.system:\n",
        "            self.messages.append({\"role\": \"system\", \"content\": system})\n",
        "\n",
        "    def __call__(self, message=\"\"):\n",
        "        if message:\n",
        "            self.messages.append({\"role\": \"user\", \"content\": message})\n",
        "        result = self.execute()\n",
        "        self.messages.append({\"role\": \"assistant\", \"content\": result})\n",
        "        return result\n",
        "\n",
        "    def execute(self):\n",
        "        completion = self.client.chat.completions.create(\n",
        "            model=\"llama3-70b-8192\", messages=self.messages\n",
        "        )\n",
        "        return completion.choices[0].message.content"
      ]
    },
    {
      "cell_type": "markdown",
      "source": [
        "# Prompt\n",
        "\n",
        "Define o comportamento do agente, orientando-o a seguir um ciclo ReAct (Thought → Action → PAUSE → Observation) até chegar à resposta final.  \n",
        "\n",
        "**Estrutura ReAct:**\n",
        "* Thought: O agente descreve seu raciocínio.\n",
        "* Action: O agente executa uma ação (por exemplo, realizar um cálculo ou buscar a massa de um planeta).\n",
        "* PAUSE: Uma indicação para esperar o resultado da ação executada.\n",
        "* Observation: O agente recebe o resultado da ação e utiliza essa informação para continuar o raciocínio.  \n",
        "\n",
        "**Ações/Tools Disponíveis:**  \n",
        "* calculate: para operações matemáticas.  \n",
        "* get_planet_mass: para recuperar a massa de um planeta."
      ],
      "metadata": {
        "id": "jI0_L1BR7LY7"
      }
    },
    {
      "cell_type": "code",
      "execution_count": null,
      "metadata": {
        "id": "pcVWbPOYt93a"
      },
      "outputs": [],
      "source": [
        "system_prompt = \"\"\"\n",
        "You run in a loop of Thought, Action, PAUSE, Observation.\n",
        "At the end of the loop you output an Answer\n",
        "Use Thought to describe your thoughts about the question you have been asked.\n",
        "Use Action to run one of the actions available to you - then return PAUSE.\n",
        "Observation will be the result of running those actions.\n",
        "\n",
        "Your available actions are:\n",
        "\n",
        "calculate:\n",
        "e.g. calculate: 4 * 7 / 3\n",
        "Runs a calculation and returns the number - uses Python so be sure to use floating point syntax if necessary\n",
        "\n",
        "get_planet_mass:\n",
        "e.g. get_planet_mass: Earth\n",
        "returns weight of the planet in kg\n",
        "\n",
        "Example session:\n",
        "\n",
        "Question: What is the mass of Earth times 2?\n",
        "Thought: I need to find the mass of Earth\n",
        "Action: get_planet_mass: Earth\n",
        "PAUSE\n",
        "\n",
        "You will be called again with this:\n",
        "\n",
        "Observation: 5.972e24\n",
        "\n",
        "Thought: I need to multiply this by 2\n",
        "Action: calculate: 5.972e24 * 2\n",
        "PAUSE\n",
        "\n",
        "You will be called again with this:\n",
        "\n",
        "Observation: 1,1944×10e25\n",
        "\n",
        "If you have the answer, output it as the Answer.\n",
        "\n",
        "Answer: The mass of Earth times 2 is 1,1944×10e25.\n",
        "\n",
        "Now it's your turn:\n",
        "\"\"\".strip()"
      ]
    },
    {
      "cell_type": "markdown",
      "source": [
        "# Funções/Tools do Agente\n",
        "\n",
        "**calculate:**  \n",
        "* Avalia uma string que contém uma operação matemática (por exemplo, \"4 * 7 / 3\") usando a função eval e retorna o resultado numérico.\n",
        "\n",
        "**get_planet_mass:**  \n",
        "* Recebe o nome de um planeta, padroniza o texto para minúsculas e, usando um match-case, retorna a massa do planeta correspondente.  \n",
        "* Se o planeta não estiver listado, retorna 0.0, indicando que o planeta não foi reconhecido."
      ],
      "metadata": {
        "id": "xZ2Fzgie7Clu"
      }
    },
    {
      "cell_type": "code",
      "source": [
        "def calculate(operation: str) -> float:\n",
        "    return eval(operation)\n",
        "\n",
        "\n",
        "def get_planet_mass(planet) -> float:\n",
        "    match planet.lower():\n",
        "        case \"earth\":\n",
        "            return 5.972e24\n",
        "        case \"jupiter\":\n",
        "            return 1.898e27\n",
        "        case \"mars\":\n",
        "            return 6.39e23\n",
        "        case \"mercury\":\n",
        "            return 3.285e23\n",
        "        case \"neptune\":\n",
        "            return 1.024e26\n",
        "        case \"saturn\":\n",
        "            return 5.683e26\n",
        "        case \"uranus\":\n",
        "            return 8.681e25\n",
        "        case \"venus\":\n",
        "            return 4.867e24\n",
        "        case _:\n",
        "            return 0.0"
      ],
      "metadata": {
        "id": "qVI7D13a7HUx"
      },
      "execution_count": null,
      "outputs": []
    },
    {
      "cell_type": "code",
      "source": [
        "# Teste de funcionamento da função que obtém a massa dos planetas\n",
        "observation = get_planet_mass(\"Earth\")\n",
        "print(observation)"
      ],
      "metadata": {
        "colab": {
          "base_uri": "https://localhost:8080/"
        },
        "id": "kRdDBzmX1Egw",
        "outputId": "15c22720-3a12-4e14-cb48-75e5dd16b3c4"
      },
      "execution_count": null,
      "outputs": [
        {
          "output_type": "stream",
          "name": "stdout",
          "text": [
            "5.972e+24\n"
          ]
        }
      ]
    },
    {
      "cell_type": "markdown",
      "source": [
        "# Agente sem loop (\"manual\")\n",
        "\n",
        "Abaixo, o agente recebe uma query e irá tentar gerar a resposta, porém, ele não tem acesso direto às tools.  \n",
        "\n",
        "Desse modo, ele irá realizar um pensamento, \"solicitar\" o uso de uma ação e nós a executaremos de forma manual, esse processo será necessário até chegar na resposta final."
      ],
      "metadata": {
        "id": "ncUdBrVW3Xpm"
      }
    },
    {
      "cell_type": "code",
      "execution_count": null,
      "metadata": {
        "id": "bLzBkDEAt93a"
      },
      "outputs": [],
      "source": [
        "# Instaciando o Agente \"Neil Tyson\"\n",
        "neil_tyson = Agent(client=client, system=system_prompt)"
      ]
    },
    {
      "cell_type": "code",
      "source": [
        "# Simulando uma entrada/pergunta/query inicial de usuário\n",
        "result = neil_tyson(\"what is the mass of Earth times 5?\")\n",
        "print(result)"
      ],
      "metadata": {
        "colab": {
          "base_uri": "https://localhost:8080/"
        },
        "id": "w5iAVbYK1NpL",
        "outputId": "2d68cd50-fe74-4420-a640-d6feac85e3a4"
      },
      "execution_count": null,
      "outputs": [
        {
          "output_type": "stream",
          "name": "stdout",
          "text": [
            "Thought: I need to find the mass of Earth\n"
          ]
        }
      ]
    },
    {
      "cell_type": "code",
      "source": [
        "# Agente é executado novamente e identifica/declara que vai precisar realizar ação\n",
        "result = neil_tyson()\n",
        "print(result)"
      ],
      "metadata": {
        "colab": {
          "base_uri": "https://localhost:8080/"
        },
        "id": "kn6hlip63yxZ",
        "outputId": "3223cf0d-2468-4d7a-f790-023c36e99eac"
      },
      "execution_count": null,
      "outputs": [
        {
          "output_type": "stream",
          "name": "stdout",
          "text": [
            "Action: get_planet_mass: Earth\n",
            "PAUSE\n"
          ]
        }
      ]
    },
    {
      "cell_type": "code",
      "source": [
        "# Utilizamos a tool de forma \"Manual\"\n",
        "result = get_planet_mass(\"Earth\")\n",
        "print(result)"
      ],
      "metadata": {
        "colab": {
          "base_uri": "https://localhost:8080/"
        },
        "id": "Vimev5YT3gnm",
        "outputId": "b318830b-0ea6-4c27-97e5-7f234756622f"
      },
      "execution_count": null,
      "outputs": [
        {
          "output_type": "stream",
          "name": "stdout",
          "text": [
            "5.972e+24\n"
          ]
        }
      ]
    },
    {
      "cell_type": "code",
      "execution_count": null,
      "metadata": {
        "id": "QiuBe68U2Us5",
        "outputId": "35be88c1-224c-433e-d718-08c0f8ec6257",
        "colab": {
          "base_uri": "https://localhost:8080/",
          "height": 35
        }
      },
      "outputs": [
        {
          "output_type": "execute_result",
          "data": {
            "text/plain": [
              "'Observation: 5.972e+24'"
            ],
            "application/vnd.google.colaboratory.intrinsic+json": {
              "type": "string"
            }
          },
          "metadata": {},
          "execution_count": 69
        }
      ],
      "source": [
        "# Passamos o resutado como observation, semelhante ao que aconteceria de forma automatizada\n",
        "next_prompt = \"Observation: {}\".format(result)\n",
        "next_prompt"
      ]
    },
    {
      "cell_type": "code",
      "execution_count": null,
      "metadata": {
        "id": "72KiFD8x2Us6",
        "outputId": "d2f8d2f6-43fa-431e-fa9f-c245b12dd77e",
        "colab": {
          "base_uri": "https://localhost:8080/"
        }
      },
      "outputs": [
        {
          "output_type": "stream",
          "name": "stdout",
          "text": [
            "Thought: I need to multiply this by 5\n"
          ]
        }
      ],
      "source": [
        "# Agente recebe a observação e define os próximos passos para responder a query\n",
        "result = neil_tyson(next_prompt)\n",
        "print(result)"
      ]
    },
    {
      "cell_type": "code",
      "execution_count": null,
      "metadata": {
        "id": "WHluVN2P2Us6",
        "outputId": "ac07f4a8-56ce-41ac-cff8-e474193ef68c",
        "colab": {
          "base_uri": "https://localhost:8080/"
        }
      },
      "outputs": [
        {
          "output_type": "stream",
          "name": "stdout",
          "text": [
            "Action: calculate: 5.972e24 * 5\n",
            "PAUSE\n"
          ]
        }
      ],
      "source": [
        "# Agente é executado novamente e identifica/declara que vai precisar realizar ação\n",
        "result = neil_tyson(next_prompt)\n",
        "print(result)"
      ]
    },
    {
      "cell_type": "code",
      "execution_count": null,
      "metadata": {
        "id": "Y2iwTkP92Us6",
        "outputId": "06687606-c9cf-4da1-a738-8a75824064ee",
        "colab": {
          "base_uri": "https://localhost:8080/"
        }
      },
      "outputs": [
        {
          "output_type": "stream",
          "name": "stdout",
          "text": [
            "2.9860000000000004e+25\n"
          ]
        }
      ],
      "source": [
        "# Utilizamos a tool de forma \"Manual\"\n",
        "result = calculate(\"5.972e24 * 5\")\n",
        "print(result)"
      ]
    },
    {
      "cell_type": "code",
      "execution_count": null,
      "metadata": {
        "id": "551yz-B92Us6",
        "outputId": "8acb3146-92e2-4453-adaa-9144f31fc540",
        "colab": {
          "base_uri": "https://localhost:8080/",
          "height": 35
        }
      },
      "outputs": [
        {
          "output_type": "execute_result",
          "data": {
            "text/plain": [
              "'Observation: 2.9860000000000004e+25'"
            ],
            "application/vnd.google.colaboratory.intrinsic+json": {
              "type": "string"
            }
          },
          "metadata": {},
          "execution_count": 73
        }
      ],
      "source": [
        "# Passamos o resutado como observation, semelhante ao que aconteceria de forma automatizada\n",
        "next_prompt = \"Observation: {}\".format(result)\n",
        "next_prompt"
      ]
    },
    {
      "cell_type": "code",
      "execution_count": null,
      "metadata": {
        "id": "S9zpkn_F2Us6",
        "outputId": "853f174e-c6f9-4528-8d5f-68c30fbe1d6c",
        "colab": {
          "base_uri": "https://localhost:8080/",
          "height": 35
        }
      },
      "outputs": [
        {
          "output_type": "execute_result",
          "data": {
            "text/plain": [
              "'Answer: The mass of Earth times 5 is 2.9860000000000004e+25.'"
            ],
            "application/vnd.google.colaboratory.intrinsic+json": {
              "type": "string"
            }
          },
          "metadata": {},
          "execution_count": 74
        }
      ],
      "source": [
        "# A partir de todas as ações e observações o agente foi capaz de gerar uma resposta final\n",
        "result = neil_tyson(next_prompt)\n",
        "result"
      ]
    },
    {
      "cell_type": "code",
      "execution_count": null,
      "metadata": {
        "id": "SJIUkrPw2Us6",
        "outputId": "2f59b879-f453-4fd7-fc6f-185ff6d6e2f1",
        "colab": {
          "base_uri": "https://localhost:8080/"
        }
      },
      "outputs": [
        {
          "output_type": "stream",
          "name": "stdout",
          "text": [
            "You run in a loop of Thought, Action, PAUSE, Observation.\n",
            "At the end of the loop you output an Answer\n",
            "Use Thought to describe your thoughts about the question you have been asked.\n",
            "Use Action to run one of the actions available to you - then return PAUSE.\n",
            "Observation will be the result of running those actions.\n",
            "\n",
            "Your available actions are:\n",
            "\n",
            "calculate:\n",
            "e.g. calculate: 4 * 7 / 3\n",
            "Runs a calculation and returns the number - uses Python so be sure to use floating point syntax if necessary\n",
            "\n",
            "get_planet_mass:\n",
            "e.g. get_planet_mass: Earth\n",
            "returns weight of the planet in kg\n",
            "\n",
            "Example session:\n",
            "\n",
            "Question: What is the mass of Earth times 2?\n",
            "Thought: I need to find the mass of Earth\n",
            "Action: get_planet_mass: Earth\n",
            "PAUSE\n",
            "\n",
            "You will be called again with this:\n",
            "\n",
            "Observation: 5.972e24\n",
            "\n",
            "Thought: I need to multiply this by 2\n",
            "Action: calculate: 5.972e24 * 2\n",
            "PAUSE\n",
            "\n",
            "You will be called again with this:\n",
            "\n",
            "Observation: 1,1944×10e25\n",
            "\n",
            "If you have the answer, output it as the Answer.\n",
            "\n",
            "Answer: The mass of Earth times 2 is 1,1944×10e25.\n",
            "\n",
            "Now it's your turn:\n",
            "what is the mass of Earth times 5?\n",
            "Thought: I need to find the mass of Earth\n",
            "\n",
            "Action: get_planet_mass: Earth\n",
            "PAUSE\n",
            "Observation: 5.972e+24\n",
            "Thought: I need to multiply this by 5\n",
            "Observation: 5.972e+24\n",
            "Action: calculate: 5.972e24 * 5\n",
            "PAUSE\n",
            "Observation: 2.9860000000000004e+25\n",
            "Answer: The mass of Earth times 5 is 2.9860000000000004e+25.\n"
          ]
        }
      ],
      "source": [
        "# Content das mensagens que o agente recebeu nas últimas celúlas, incluindo entradas, pensamentos e resultados\n",
        "for msg in neil_tyson.messages:\n",
        "    print(msg['content'])"
      ]
    },
    {
      "cell_type": "markdown",
      "source": [
        "# Agente com loop (\"automático\")\n",
        "\n",
        "**Instanciação do Agente:**  \n",
        "A função cria uma instância de Agent passando o client e o system_prompt previamente definidos.\n",
        "\n",
        "**Definição das Ferramentas:**  \n",
        "Uma lista de ferramentas disponíveis (calculate e get_planet_mass) é utilizada para determinar quais ações o agente pode pedir.\n",
        "\n",
        "**Loop:**  \n",
        "Envia um prompt para o agente e printa sua resposta. Se a resposta incluir uma ação (indicada por \"Action\" e \"PAUSE\"), o código extrai a ação e seu argumento utilizando expressões regulares.\n",
        "\n",
        "Se a ação for válida (estiver na lista de ferramentas), a função correspondente é executada (por exemplo, calcular uma expressão ou obter a massa de um planeta) e o resultado é enviado como observação ao agente.  \n",
        "Se a resposta contiver \"Answer\", o loop é interrompido.\n",
        "\n",
        "Ou seja, essa função automatiza o processo que foi feito de forma manual anteriormente, em que o agente \"pedia\" para usar uma ação, nós fazíamos a execução e depois apenas o resultado era passado de volta ao agente."
      ],
      "metadata": {
        "id": "9-Uwnja43jKu"
      }
    },
    {
      "cell_type": "code",
      "execution_count": null,
      "metadata": {
        "id": "97BpofPkt93b",
        "outputId": "779f916c-d017-41ec-da42-891066c66e5a",
        "colab": {
          "base_uri": "https://localhost:8080/"
        }
      },
      "outputs": [
        {
          "output_type": "stream",
          "name": "stdout",
          "text": [
            "Thought: I need to find the mass of Earth and Saturn, then add them together and multiply by 2.\n",
            "Action: get_planet_mass: Earth\n",
            "PAUSE\n",
            "Observation: 5.972e+24\n",
            "Thought: Now I have the mass of Earth, I need to get the mass of Saturn.\n",
            "Action: get_planet_mass: Saturn\n",
            "PAUSE\n",
            "Observation: 5.683e+26\n",
            "Thought: Now I have the mass of Earth and Saturn, I need to add them together.\n",
            "Action: calculate: 5.972e24 + 5.683e26\n",
            "PAUSE\n",
            "Observation: 5.74272e+26\n",
            "Thought: Now I have the sum of the masses, I need to multiply it by 2.\n",
            "Action: calculate: 5.74272e26 * 2\n",
            "PAUSE\n",
            "Observation: 1.148544e+27\n",
            "Answer: The mass of Earth plus the mass of Saturn and all of that times 2 is 1.148544e+27.\n"
          ]
        }
      ],
      "source": [
        "import re\n",
        "\n",
        "\n",
        "def loop(max_iterations=10, query: str = \"\"):\n",
        "\n",
        "    agent = Agent(client=client, system=system_prompt)\n",
        "\n",
        "    tools = [\"calculate\", \"get_planet_mass\"]\n",
        "\n",
        "    next_prompt = query\n",
        "\n",
        "    i = 0\n",
        "\n",
        "    while i < max_iterations:\n",
        "        i += 1\n",
        "        result = agent(next_prompt)\n",
        "        print(result)\n",
        "\n",
        "        if \"PAUSE\" in result and \"Action\" in result:\n",
        "            action = re.findall(r\"Action: ([a-z_]+): (.+)\", result, re.IGNORECASE)\n",
        "            chosen_tool = action[0][0]\n",
        "            arg = action[0][1]\n",
        "\n",
        "            if chosen_tool in tools:\n",
        "                result_tool = eval(f\"{chosen_tool}('{arg}')\")\n",
        "                next_prompt = f\"Observation: {result_tool}\"\n",
        "\n",
        "            else:\n",
        "                next_prompt = \"Observation: Tool not found\"\n",
        "\n",
        "            print(next_prompt)\n",
        "            continue\n",
        "\n",
        "        if \"Answer\" in result:\n",
        "            break\n",
        "\n",
        "\n",
        "loop(query=\"What is the mass of Earth plus the mass of Saturn and all of that times 2?\")"
      ]
    }
  ],
  "metadata": {
    "kernelspec": {
      "display_name": "agents",
      "language": "python",
      "name": "python3"
    },
    "language_info": {
      "codemirror_mode": {
        "name": "ipython",
        "version": 3
      },
      "file_extension": ".py",
      "mimetype": "text/x-python",
      "name": "python",
      "nbconvert_exporter": "python",
      "pygments_lexer": "ipython3",
      "version": "3.11.9"
    },
    "colab": {
      "provenance": [],
      "collapsed_sections": [
        "rtXipUucxrgl",
        "ox8LY3cQx15v"
      ],
      "include_colab_link": true
    }
  },
  "nbformat": 4,
  "nbformat_minor": 0
}