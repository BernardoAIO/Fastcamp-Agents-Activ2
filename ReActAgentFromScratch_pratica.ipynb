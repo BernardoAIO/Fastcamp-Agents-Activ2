{
  "cells": [
    {
      "cell_type": "markdown",
      "source": [
        "# Installs e imports"
      ],
      "metadata": {
        "id": "rtXipUucxrgl"
      }
    },
    {
      "cell_type": "code",
      "source": [
        "!pip install groq"
      ],
      "metadata": {
        "colab": {
          "base_uri": "https://localhost:8080/"
        },
        "id": "UcRXLTv_vhFb",
        "outputId": "9c7b4c84-f511-430e-e147-02011443d52e"
      },
      "execution_count": 17,
      "outputs": [
        {
          "output_type": "stream",
          "name": "stdout",
          "text": [
            "Requirement already satisfied: groq in /usr/local/lib/python3.11/dist-packages (0.18.0)\n",
            "Requirement already satisfied: anyio<5,>=3.5.0 in /usr/local/lib/python3.11/dist-packages (from groq) (3.7.1)\n",
            "Requirement already satisfied: distro<2,>=1.7.0 in /usr/local/lib/python3.11/dist-packages (from groq) (1.9.0)\n",
            "Requirement already satisfied: httpx<1,>=0.23.0 in /usr/local/lib/python3.11/dist-packages (from groq) (0.28.1)\n",
            "Requirement already satisfied: pydantic<3,>=1.9.0 in /usr/local/lib/python3.11/dist-packages (from groq) (2.10.6)\n",
            "Requirement already satisfied: sniffio in /usr/local/lib/python3.11/dist-packages (from groq) (1.3.1)\n",
            "Requirement already satisfied: typing-extensions<5,>=4.10 in /usr/local/lib/python3.11/dist-packages (from groq) (4.12.2)\n",
            "Requirement already satisfied: idna>=2.8 in /usr/local/lib/python3.11/dist-packages (from anyio<5,>=3.5.0->groq) (3.10)\n",
            "Requirement already satisfied: certifi in /usr/local/lib/python3.11/dist-packages (from httpx<1,>=0.23.0->groq) (2025.1.31)\n",
            "Requirement already satisfied: httpcore==1.* in /usr/local/lib/python3.11/dist-packages (from httpx<1,>=0.23.0->groq) (1.0.7)\n",
            "Requirement already satisfied: h11<0.15,>=0.13 in /usr/local/lib/python3.11/dist-packages (from httpcore==1.*->httpx<1,>=0.23.0->groq) (0.14.0)\n",
            "Requirement already satisfied: annotated-types>=0.6.0 in /usr/local/lib/python3.11/dist-packages (from pydantic<3,>=1.9.0->groq) (0.7.0)\n",
            "Requirement already satisfied: pydantic-core==2.27.2 in /usr/local/lib/python3.11/dist-packages (from pydantic<3,>=1.9.0->groq) (2.27.2)\n"
          ]
        }
      ]
    },
    {
      "cell_type": "code",
      "execution_count": 18,
      "metadata": {
        "id": "G34wSOY0t93Y"
      },
      "outputs": [],
      "source": [
        "import os\n",
        "from groq import Groq\n",
        "from google.colab import userdata\n",
        "import re\n",
        "import requests"
      ]
    },
    {
      "cell_type": "markdown",
      "source": [
        "# Teste Inicial\n",
        "\n",
        "Uso de um completion básico para testar a funcionalidade da API do Groq e a key que será utilizada"
      ],
      "metadata": {
        "id": "ox8LY3cQx15v"
      }
    },
    {
      "cell_type": "code",
      "execution_count": 19,
      "metadata": {
        "id": "kfNRkhABt93Z",
        "outputId": "fdd1fc64-f2c3-4181-a5ec-5aa8762b7d4a",
        "colab": {
          "base_uri": "https://localhost:8080/"
        }
      },
      "outputs": [
        {
          "output_type": "stream",
          "name": "stdout",
          "text": [
            "Fast language models are crucial in today's natural language processing (NLP) landscape, and their importance can be seen in several aspects:\n",
            "\n",
            "1. **Real-time Applications**: Fast language models enable real-time applications such as chatbots, virtual assistants, and language translation systems to respond quickly and efficiently. This is particularly important in customer-facing applications where delayed responses can lead to frustration and a negative user experience.\n",
            "2. **Low-Latency Requirements**: Many applications, such as voice assistants, require language models to process and respond to user input within a few hundred milliseconds. Fast language models can meet these low-latency requirements, ensuring a seamless user experience.\n",
            "3. **Scalability**: Fast language models can handle large volumes of data and user requests, making them essential for large-scale NLP applications such as language translation, sentiment analysis, and text summarization.\n",
            "4. **Energy Efficiency**: Fast language models can reduce the computational resources required to process language tasks, leading to energy efficiency and cost savings. This is particularly important for edge devices, mobile devices, and data centers.\n",
            "5. **Improved Accuracy**: Faster language models can process more data and perform more iterations, leading to improved accuracy and better performance in various NLP tasks.\n",
            "6. **Enhanced User Experience**: Fast language models can enable more interactive and engaging user experiences, such as conversational interfaces, voice-controlled systems, and personalized content recommendation.\n",
            "7. **Competitive Advantage**: In today's fast-paced technology landscape, companies that can deploy fast and accurate language models can gain a competitive advantage over their rivals.\n",
            "8. **Research and Development**: Fast language models can accelerate research and development in NLP, enabling researchers to experiment with new ideas, test hypotheses, and iterate on models more quickly.\n",
            "9. **Edge AI and IoT**: Fast language models are essential for edge AI and IoT applications, where devices have limited computational resources and require efficient processing of language data.\n",
            "10. **Accessibility**: Fast language models can enable language accessibility features, such as real-time language translation, text-to-speech, and speech-to-text, which can improve the quality of life for people with disabilities.\n",
            "\n",
            "To achieve fast language models, researchers and developers employ various techniques, including:\n",
            "\n",
            "1. Model pruning and knowledge distillation\n",
            "2. Quantization and binarization\n",
            "3. Efficient neural network architectures\n",
            "4. Parallel processing and distributed computing\n",
            "5. GPU acceleration and specialized hardware\n",
            "6. Caching and memoization\n",
            "7. Approximation algorithms and sampling techniques\n",
            "\n",
            "By leveraging these techniques, fast language models can unlock new possibilities in NLP and have a significant impact on various industries, including customer service, healthcare, education, and entertainment.\n"
          ]
        }
      ],
      "source": [
        "client = Groq(api_key=userdata.get('GROQ_API_KEY'))\n",
        "\n",
        "chat_completion = client.chat.completions.create(\n",
        "    messages=[\n",
        "        {\"role\": \"user\", \"content\": \"Explain the importance of fast language models\"}\n",
        "    ],\n",
        "    model=\"llama3-70b-8192\",\n",
        "    temperature=0\n",
        ")\n",
        "\n",
        "print(chat_completion.choices[0].message.content)"
      ]
    },
    {
      "cell_type": "markdown",
      "source": [
        "# Setup da Classe do Agente\n",
        "\n",
        "* Inicialização (__init__): Configura o agente com um cliente (para acessar a\n",
        "API) e opcionalmente uma mensagem de sistema, que pode ser utilizada para fornecer contexto ou instruções iniciais ao modelo.  \n",
        "\n",
        "* Chamada do Agente (__call__): Permite usar a instância do agente como se fosse uma função. Quando chamada, adiciona uma nova mensagem do usuário ao histórico, solicita a resposta do modelo via o método execute, registra essa resposta no histórico como uma mensagem do assistente e, por fim, retorna a resposta.  \n",
        "\n",
        "* Execução da Chamada à API (execute): Envia o histórico de mensagens para o modelo de linguagem fazer um completion."
      ],
      "metadata": {
        "id": "uw8XcOnX5Ekl"
      }
    },
    {
      "cell_type": "code",
      "execution_count": 20,
      "metadata": {
        "id": "XstqNVXvt93Z"
      },
      "outputs": [],
      "source": [
        "class Agent:\n",
        "    def __init__(self, client: Groq, system: str = \"\") -> None:\n",
        "        self.client = client\n",
        "        self.system = system\n",
        "        self.messages: list = []\n",
        "        if self.system:\n",
        "            self.messages.append({\"role\": \"system\", \"content\": system})\n",
        "\n",
        "    def __call__(self, message=\"\"):\n",
        "        if message:\n",
        "            self.messages.append({\"role\": \"user\", \"content\": message})\n",
        "        result = self.execute()\n",
        "        self.messages.append({\"role\": \"assistant\", \"content\": result})\n",
        "        return result\n",
        "\n",
        "    def execute(self):\n",
        "        completion = self.client.chat.completions.create(\n",
        "            model=\"llama3-70b-8192\", messages=self.messages\n",
        "        )\n",
        "        return completion.choices[0].message.content"
      ]
    },
    {
      "cell_type": "markdown",
      "source": [
        "# Prompt\n",
        "\n",
        "Define o comportamento do agente, orientando-o a seguir um ciclo ReAct (Thought → Action → PAUSE → Observation) até chegar à resposta final.  \n",
        "\n",
        "**Estrutura ReAct:**\n",
        "* Thought: O agente descreve seu raciocínio.\n",
        "* Action: O agente executa uma ação (por exemplo, realizar um cálculo ou buscar a massa de um planeta).\n",
        "* PAUSE: Uma indicação para esperar o resultado da ação executada.\n",
        "* Observation: O agente recebe o resultado da ação e utiliza essa informação para continuar o raciocínio.  \n",
        "\n",
        "**Ações/Tools Disponíveis:**  \n",
        "* calculate: para operações matemáticas.  \n",
        "* get_planet_mass: para recuperar a massa de um planeta."
      ],
      "metadata": {
        "id": "jI0_L1BR7LY7"
      }
    },
    {
      "cell_type": "markdown",
      "source": [
        "## Ajuste no Prompt\n",
        "\n",
        "Foram adicionadas duas novas tools que ampliam a capacidade do agente, permitindo que ele forneça respostas mais ricas e informativas. Assim, além de realizar cálculos, o agente pode acessar dados detalhados (por exemplo, características físicas e históricas dos planetas), tornando a resposta final mais completa e contextualizada.  \n",
        "\n",
        "Além disso, após testes práticos, notei que o agente estava respondendo apenas a parte dos cálculos, ignorando a solicitação de apresentar um fato interessante. Logo, criei uma nova instrução, em que o agente é explicitamente orientado a integrar todas as informações solicitadas, garantindo que a resposta final aborde tanto as curiosidades quanto os resultados dos cálculos."
      ],
      "metadata": {
        "id": "CreXiyyx10Kv"
      }
    },
    {
      "cell_type": "code",
      "execution_count": 21,
      "metadata": {
        "id": "pcVWbPOYt93a"
      },
      "outputs": [],
      "source": [
        "system_prompt = \"\"\"\n",
        "You run in a loop of Thought, Action, PAUSE, Observation.\n",
        "At the end of the loop you output an Answer\n",
        "Use Thought to describe your thoughts about the question you have been asked.\n",
        "Use Action to run one of the actions available to you - then return PAUSE.\n",
        "Observation will be the result of running those actions.\n",
        "\n",
        "If your question includes multiple aspects (for example, asking for interesting\n",
        "facts and performing calculations), your final Answer must incorporate all relevant information in a single, cohesive response.\n",
        "Specifically, include both the interesting fact and the result of the calculation.\n",
        "\n",
        "Your available actions are:\n",
        "\n",
        "calculate:\n",
        "e.g. calculate: 4 * 7 / 3\n",
        "Runs a calculation and returns the number - uses Python so be sure to use floating point syntax if necessary.\n",
        "\n",
        "get_planet_mass:\n",
        "e.g. get_planet_mass: Earth\n",
        "Returns the mass of the planet in kg.\n",
        "\n",
        "get_planet_radius:\n",
        "e.g. get_planet_radius: Earth\n",
        "Returns the radius of the planet in kilometers.\n",
        "\n",
        "get_planet_info:\n",
        "e.g. get_planet_info: Earth\n",
        "Dynamically fetches interesting historical facts or curiosities about the planet from Wikipedia.\n",
        "\n",
        "Example session:\n",
        "\n",
        "Question: What is the mass of Earth times 2?\n",
        "Thought: I need to find the mass of Earth\n",
        "Action: get_planet_mass: Earth\n",
        "PAUSE\n",
        "\n",
        "You will be called again with this:\n",
        "\n",
        "Observation: 5.972e24\n",
        "\n",
        "Thought: I need to multiply this by 2\n",
        "Action: calculate: 5.972e24 * 2\n",
        "PAUSE\n",
        "\n",
        "You will be called again with this:\n",
        "\n",
        "Observation: 1,1944×10e25\n",
        "\n",
        "If you have the answer, output it as the Answer.\n",
        "\n",
        "Answer: The mass of Earth times 2 is 1,1944×10e25.\n",
        "\n",
        "Another example:\n",
        "\n",
        "Question: Tell me something interesting about Mars.\n",
        "Thought: I need to fetch historical facts about Mars.\n",
        "Action: get_planet_info: Mars\n",
        "PAUSE\n",
        "\n",
        "You will be called again with this:\n",
        "\n",
        "Observation: [Wikipedia summary about Mars]\n",
        "\n",
        "If you have the answer, output it as the Answer.\n",
        "\n",
        "Answer: Mars is fascinating because [summary].\n",
        "\n",
        "Now it's your turn:\n",
        "\"\"\".strip()"
      ]
    },
    {
      "cell_type": "markdown",
      "source": [
        "# Funções/Tools do Agente\n",
        "\n",
        "**calculate:**  \n",
        "* Avalia uma string que contém uma operação matemática (por exemplo, \"4 * 7 / 3\") usando a função eval e retorna o resultado numérico.\n",
        "\n",
        "**get_planet_mass:**  \n",
        "* Recebe o nome de um planeta, padroniza o texto para minúsculas e, usando um match-case, retorna a massa do planeta correspondente.  \n",
        "* Se o planeta não estiver listado, retorna 0.0, indicando que o planeta não foi reconhecido."
      ],
      "metadata": {
        "id": "xZ2Fzgie7Clu"
      }
    },
    {
      "cell_type": "code",
      "source": [
        "def calculate(operation: str) -> float:\n",
        "    return eval(operation)\n",
        "\n",
        "\n",
        "def get_planet_mass(planet) -> float:\n",
        "    match planet.lower():\n",
        "        case \"earth\":\n",
        "            return 5.972e24\n",
        "        case \"jupiter\":\n",
        "            return 1.898e27\n",
        "        case \"mars\":\n",
        "            return 6.39e23\n",
        "        case \"mercury\":\n",
        "            return 3.285e23\n",
        "        case \"neptune\":\n",
        "            return 1.024e26\n",
        "        case \"saturn\":\n",
        "            return 5.683e26\n",
        "        case \"uranus\":\n",
        "            return 8.681e25\n",
        "        case \"venus\":\n",
        "            return 4.867e24\n",
        "        case _:\n",
        "            return 0.0"
      ],
      "metadata": {
        "id": "qVI7D13a7HUx"
      },
      "execution_count": 22,
      "outputs": []
    },
    {
      "cell_type": "markdown",
      "source": [
        "## Novas Tools\n",
        "\n",
        "Visando aumentar as capacidades do agente, forneci duas novas tools que permitem buscar mais informações (vindas da Wikipedia) sobre os planetas e também fornecer o raio em kms de alguns planetas.\n",
        "\n",
        "**get_planet_info:**\n",
        "\n",
        "* Recebe o nome de um planeta, formata-o para corresponder ao padrão da Wikipedia e realiza uma requisição HTTP à API REST da Wikipedia para buscar um resumo da página correspondente ao planeta. Se a requisição for bem-sucedida, retorna o resumo com informações históricas e curiosidades, caso contrário, retorna uma mensagem de erro ou uma indicação de que a informação não foi encontrada.\n",
        "\n",
        "**get_planet_radius:**\n",
        "\n",
        "* Recebe o nome de um planeta, converte-o para letras minúsculas e utiliza uma estrutura match-case para retornar o raio do planeta em quilômetros. Se o planeta não estiver listado, retorna 0.0, indicando que o planeta não foi reconhecido."
      ],
      "metadata": {
        "id": "e72CNjpO0m25"
      }
    },
    {
      "cell_type": "code",
      "source": [
        "def get_planet_info(planet: str) -> str:\n",
        "    \"\"\"\n",
        "    Busca informações dinâmicas sobre o planeta na Wikipedia.\n",
        "    Utiliza a API REST para obter um resumo da página correspondente ao planeta.\n",
        "\n",
        "    Parâmetros:\n",
        "      planet (str): Nome do planeta a ser consultado.\n",
        "\n",
        "    Retorna:\n",
        "      str: Resumo extraído da página da Wikipedia ou uma mensagem de erro.\n",
        "    \"\"\"\n",
        "    try:\n",
        "        # Formata o nome do planeta\n",
        "        planet_title = planet.capitalize()\n",
        "        # URL da API REST da Wikipedia para obter o resumo de uma página\n",
        "        url = f\"https://en.wikipedia.org/api/rest_v1/page/summary/{planet_title}\"\n",
        "        response = requests.get(url)\n",
        "        if response.status_code == 200:\n",
        "            data = response.json()\n",
        "            # Retorna o resumo extraído da resposta, ou uma mensagem padrão se não houver resumo.\n",
        "            return data.get(\"extract\", \"No summary available.\")\n",
        "        else:\n",
        "            return f\"Error: Received status code {response.status_code} from Wikipedia.\"\n",
        "    except Exception as e:\n",
        "        return f\"Error: {e}\""
      ],
      "metadata": {
        "id": "Nfgf3VGYzmaE"
      },
      "execution_count": 23,
      "outputs": []
    },
    {
      "cell_type": "code",
      "source": [
        "def get_planet_radius(planet) -> float:\n",
        "    \"\"\"\n",
        "    Retorna o raio do planeta em quilômetros.\n",
        "    \"\"\"\n",
        "    match planet.lower():\n",
        "        case \"earth\":\n",
        "            return 6371\n",
        "        case \"jupiter\":\n",
        "            return 69911\n",
        "        case \"mars\":\n",
        "            return 3389.5\n",
        "        case \"mercury\":\n",
        "            return 2439.7\n",
        "        case \"neptune\":\n",
        "            return 24622\n",
        "        case \"saturn\":\n",
        "            return 58232\n",
        "        case \"uranus\":\n",
        "            return 25362\n",
        "        case \"venus\":\n",
        "            return 6051.8\n",
        "        case _:\n",
        "            return 0.0"
      ],
      "metadata": {
        "id": "J7hVBOg3zqtH"
      },
      "execution_count": 24,
      "outputs": []
    },
    {
      "cell_type": "markdown",
      "source": [
        "# Agente com loop (\"automático\")\n",
        "\n",
        "**Instanciação do Agente:**  \n",
        "A função cria uma instância de Agent passando o client e o system_prompt previamente definidos.\n",
        "\n",
        "**Definição das Ferramentas:**  \n",
        "Uma lista de ferramentas disponíveis (calculate e get_planet_mass) é utilizada para determinar quais ações o agente pode pedir.\n",
        "\n",
        "**Loop:**  \n",
        "Envia um prompt para o agente e printa sua resposta. Se a resposta incluir uma ação (indicada por \"Action\" e \"PAUSE\"), o código extrai a ação e seu argumento utilizando expressões regulares.\n",
        "\n",
        "Se a ação for válida (estiver na lista de ferramentas), a função correspondente é executada (por exemplo, calcular uma expressão ou obter a massa de um planeta) e o resultado é enviado como observação ao agente.  \n",
        "Se a resposta contiver \"Answer\", o loop é interrompido.\n",
        "\n",
        "Ou seja, essa função automatiza o processo que foi feito de forma manual anteriormente, em que o agente \"pedia\" para usar uma ação, nós fazíamos a execução e depois apenas o resultado era passado de volta ao agente."
      ],
      "metadata": {
        "id": "9-Uwnja43jKu"
      }
    },
    {
      "cell_type": "code",
      "execution_count": 25,
      "metadata": {
        "id": "97BpofPkt93b",
        "outputId": "1560cc0c-4099-41af-a444-92fae404a8f1",
        "colab": {
          "base_uri": "https://localhost:8080/"
        }
      },
      "outputs": [
        {
          "output_type": "stream",
          "name": "stdout",
          "text": [
            "Thought: I need to fetch historical facts about Jupiter and then perform some calculations involving Jupiter and Saturn's masses.\n",
            "\n",
            "Action: get_planet_info: Jupiter\n",
            "PAUSE\n",
            "Observation: Jupiter is the fifth planet from the Sun and the largest in the Solar System. It is a gas giant with a mass more than 2.5 times that of all the other planets in the Solar System combined and slightly less than one-thousandth the mass of the Sun. Its diameter is eleven times that of Earth, and a tenth that of the Sun. Jupiter orbits the Sun at a distance of 5.20 AU (778.5 Gm), with an orbital period of 11.86 years. It is the third-brightest natural object in the Earth's night sky, after the Moon and Venus, and has been observed since prehistoric times. Its name derives from that of Jupiter, the chief deity of ancient Roman religion.\n",
            "Thought: That's an interesting fact about Jupiter. Now, I need to get the masses of Jupiter and Saturn to perform the calculations.\n",
            "\n",
            "Action: get_planet_mass: Jupiter\n",
            "PAUSE\n",
            "Observation: 1.898e+27\n",
            "Thought: I now have the mass of Jupiter. Next, I need to get the mass of Saturn.\n",
            "\n",
            "Action: get_planet_mass: Saturn\n",
            "PAUSE\n",
            "Observation: 5.683e+26\n",
            "Thought: I now have the masses of both Jupiter and Saturn. I need to calculate their total mass and then multiply it by 2.\n",
            "\n",
            "Action: calculate: 1.898e+27 + 5.683e+26\n",
            "PAUSE\n",
            "Observation: 2.4663e+27\n",
            "Thought: I now have the total mass of Jupiter and Saturn. I need to multiply it by 2.\n",
            "\n",
            "Action: calculate: 2.4663e+27 * 2\n",
            "PAUSE\n",
            "Observation: 4.9326e+27\n",
            "Thought: I have the final result. I also have an interesting fact about Jupiter.\n",
            "\n",
            "Answer: Jupiter is the fifth planet from the Sun and the largest in the Solar System. It is a gas giant with a mass more than 2.5 times that of all the other planets in the Solar System combined and slightly less than one-thousandth the mass of the Sun. Its diameter is eleven times that of Earth, and a tenth that of the Sun. Jupiter orbits the Sun at a distance of 5.20 AU (778.5 Gm), with an orbital period of 11.86 years. It is the third-brightest natural object in the Earth's night sky, after the Moon and Venus, and has been observed since prehistoric times. Its name derives from that of Jupiter, the chief deity of ancient Roman religion. The mass of Jupiter plus the mass of Saturn, multiplied by 2, is 4.9326e+27 kg.\n"
          ]
        }
      ],
      "source": [
        "\"\"\" Aumento do número de interações máximas, visto que agora o agente é capaz de\n",
        "responder diversas solicitações (ex: fatos sobre o planeta, raio e cálculo de massas)\n",
        "em uma mesma query, o que demanda mais interações.\n",
        "\"\"\"\n",
        "def loop(max_iterations=20, query: str = \"\"):\n",
        "\n",
        "    agent = Agent(client=client, system=system_prompt)\n",
        "\n",
        "    tools = [\"calculate\", \"get_planet_mass\", \"get_planet_radius\", \"get_planet_info\"]\n",
        "\n",
        "    next_prompt = query\n",
        "\n",
        "    i = 0\n",
        "\n",
        "    while i < max_iterations:\n",
        "        i += 1\n",
        "        result = agent(next_prompt)\n",
        "        print(result)\n",
        "\n",
        "        if \"PAUSE\" in result and \"Action\" in result:\n",
        "            action = re.findall(r\"Action: ([a-z_]+): (.+)\", result, re.IGNORECASE)\n",
        "            chosen_tool = action[0][0]\n",
        "            arg = action[0][1]\n",
        "\n",
        "            if chosen_tool in tools:\n",
        "                result_tool = eval(f\"{chosen_tool}('{arg}')\")\n",
        "                next_prompt = f\"Observation: {result_tool}\"\n",
        "\n",
        "            else:\n",
        "                next_prompt = \"Observation: Tool not found\"\n",
        "\n",
        "            print(next_prompt)\n",
        "            continue\n",
        "\n",
        "        if \"Answer\" in result:\n",
        "            break\n",
        "\n",
        "\n",
        "loop(query=\"Tell me something interesting about Jupiter, then calculate its mass plus the mass of Saturn, and multiply all of that by 2.\")"
      ]
    }
  ],
  "metadata": {
    "kernelspec": {
      "display_name": "agents",
      "language": "python",
      "name": "python3"
    },
    "language_info": {
      "codemirror_mode": {
        "name": "ipython",
        "version": 3
      },
      "file_extension": ".py",
      "mimetype": "text/x-python",
      "name": "python",
      "nbconvert_exporter": "python",
      "pygments_lexer": "ipython3",
      "version": "3.11.9"
    },
    "colab": {
      "provenance": []
    }
  },
  "nbformat": 4,
  "nbformat_minor": 0
}